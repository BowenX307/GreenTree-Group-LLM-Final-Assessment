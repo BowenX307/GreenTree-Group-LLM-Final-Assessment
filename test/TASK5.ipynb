{
 "cells": [
  {
   "cell_type": "markdown",
   "metadata": {},
   "source": [
    "Flight Risk Calculation"
   ]
  },
  {
   "cell_type": "markdown",
   "metadata": {},
   "source": [
    "For each employee, all negative messages are first sorted in ascending order by timestamp. A sliding window algorithm is then applied to identify whether any group of four negative messages falls within a continuous 30-day period. To avoid duplicate detection, the window is non-overlapping—once a qualifying group is found, the index jumps forward by four positions. If a group does not meet the criteria, the window moves forward by one. The number of such detected risk windows is counted for each employee and stored in flight_risk_counts, which is then converted into a DataFrame for further analysis or reporting."
   ]
  },
  {
   "cell_type": "code",
   "execution_count": null,
   "metadata": {},
   "outputs": [
    {
     "data": {
      "text/html": [
       "<div>\n",
       "<style scoped>\n",
       "    .dataframe tbody tr th:only-of-type {\n",
       "        vertical-align: middle;\n",
       "    }\n",
       "\n",
       "    .dataframe tbody tr th {\n",
       "        vertical-align: top;\n",
       "    }\n",
       "\n",
       "    .dataframe thead th {\n",
       "        text-align: right;\n",
       "    }\n",
       "</style>\n",
       "<table border=\"1\" class=\"dataframe\">\n",
       "  <thead>\n",
       "    <tr style=\"text-align: right;\">\n",
       "      <th></th>\n",
       "      <th>employee</th>\n",
       "      <th>flight_risk_count</th>\n",
       "    </tr>\n",
       "  </thead>\n",
       "  <tbody>\n",
       "    <tr>\n",
       "      <th>0</th>\n",
       "      <td>bobette.riner@ipgdirect.com</td>\n",
       "      <td>1</td>\n",
       "    </tr>\n",
       "    <tr>\n",
       "      <th>1</th>\n",
       "      <td>eric.bass@enron.com</td>\n",
       "      <td>1</td>\n",
       "    </tr>\n",
       "    <tr>\n",
       "      <th>2</th>\n",
       "      <td>john.arnold@enron.com</td>\n",
       "      <td>1</td>\n",
       "    </tr>\n",
       "    <tr>\n",
       "      <th>3</th>\n",
       "      <td>johnny.palmer@enron.com</td>\n",
       "      <td>1</td>\n",
       "    </tr>\n",
       "    <tr>\n",
       "      <th>4</th>\n",
       "      <td>kayne.coulter@enron.com</td>\n",
       "      <td>1</td>\n",
       "    </tr>\n",
       "    <tr>\n",
       "      <th>5</th>\n",
       "      <td>patti.thompson@enron.com</td>\n",
       "      <td>1</td>\n",
       "    </tr>\n",
       "    <tr>\n",
       "      <th>6</th>\n",
       "      <td>sally.beck@enron.com</td>\n",
       "      <td>1</td>\n",
       "    </tr>\n",
       "  </tbody>\n",
       "</table>\n",
       "</div>"
      ],
      "text/plain": [
       "                      employee  flight_risk_count\n",
       "0  bobette.riner@ipgdirect.com                  1\n",
       "1          eric.bass@enron.com                  1\n",
       "2        john.arnold@enron.com                  1\n",
       "3      johnny.palmer@enron.com                  1\n",
       "4      kayne.coulter@enron.com                  1\n",
       "5     patti.thompson@enron.com                  1\n",
       "6         sally.beck@enron.com                  1"
      ]
     },
     "execution_count": 9,
     "metadata": {},
     "output_type": "execute_result"
    }
   ],
   "source": [
    "import pandas as pd\n",
    "from datetime import timedelta\n",
    "\n",
    "\n",
    "df = pd.read_csv('sentimental_labeling.csv')\n",
    "df.columns = df.columns.str.strip().str.lower()\n",
    "df['timestamp'] = pd.to_datetime(df['date'])\n",
    "neg_df = df[df['sentiment'] == 'Negative'].copy()\n",
    "flight_risk_counts = []\n",
    "\n",
    "\n",
    "for emp, group in neg_df.groupby('from'):\n",
    "    group = group.sort_values('timestamp').reset_index(drop=True)\n",
    "    i = 0\n",
    "    risk_count = 0\n",
    "\n",
    "    while i <= len(group) - 4:\n",
    "        start = group.loc[i, 'timestamp']\n",
    "        end = group.loc[i + 3, 'timestamp']\n",
    "\n",
    "        if (end - start).days <= 30:\n",
    "            risk_count += 1\n",
    "            i += 4  \n",
    "        else:\n",
    "            i += 1  \n",
    "\n",
    "    if risk_count > 0:\n",
    "        flight_risk_counts.append({\n",
    "            'employee': emp,\n",
    "            'flight_risk_count': risk_count\n",
    "        })\n",
    "\n",
    "risk_df = pd.DataFrame(flight_risk_counts)\n",
    "\n",
    "risk_df"
   ]
  }
 ],
 "metadata": {
  "kernelspec": {
   "display_name": "Python 3",
   "language": "python",
   "name": "python3"
  },
  "language_info": {
   "codemirror_mode": {
    "name": "ipython",
    "version": 3
   },
   "file_extension": ".py",
   "mimetype": "text/x-python",
   "name": "python",
   "nbconvert_exporter": "python",
   "pygments_lexer": "ipython3",
   "version": "3.12.10"
  }
 },
 "nbformat": 4,
 "nbformat_minor": 2
}
